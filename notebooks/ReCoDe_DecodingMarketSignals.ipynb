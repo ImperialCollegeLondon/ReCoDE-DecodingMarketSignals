{
 "cells": [
  {
   "cell_type": "markdown",
   "id": "78cb2bca",
   "metadata": {},
   "source": [
    "# SP500 tickers"
   ]
  },
  {
   "cell_type": "code",
   "execution_count": null,
   "id": "57132d97",
   "metadata": {},
   "outputs": [],
   "source": [
    "# tickers of SP500\n",
    "# install a linter\n",
    "# Ticker obtained from public source: https://www.slickcharts.com/sp500; accessed on 4 December 2023\n",
    "# This ticker list might change in the future. How can I scrape the data automatircally to compare it is still valid?"
   ]
  },
  {
   "cell_type": "markdown",
   "id": "2a89fd38",
   "metadata": {},
   "source": [
    "# Decoding Market Signals: Candlestick patterns"
   ]
  },
  {
   "cell_type": "code",
   "execution_count": null,
   "id": "37375405",
   "metadata": {},
   "outputs": [],
   "source": [
    "https://papers.ssrn.com/sol3/papers.cfm?abstract_id=3247865"
   ]
  },
  {
   "cell_type": "markdown",
   "id": "82948cdb",
   "metadata": {},
   "source": [
    "## Third party libraries"
   ]
  },
  {
   "cell_type": "code",
   "execution_count": 21,
   "id": "38cf8e0f",
   "metadata": {},
   "outputs": [],
   "source": [
    "import os\n",
    "import numpy as np\n",
    "import pandas as pd\n",
    "\n",
    "import talib "
   ]
  },
  {
   "cell_type": "code",
   "execution_count": 22,
   "id": "535ea8a3",
   "metadata": {},
   "outputs": [],
   "source": [
    "pd.set_option('display.max_columns', None)"
   ]
  },
  {
   "cell_type": "code",
   "execution_count": 105,
   "id": "23e9fe06",
   "metadata": {},
   "outputs": [],
   "source": [
    "# Include reference: Scientific Guide To Price Action and Pattern Trading Wisdom of Trend, Cycle, and Fractal Wave (Young Ho Seo)"
   ]
  },
  {
   "cell_type": "markdown",
   "id": "7fe2054a",
   "metadata": {},
   "source": [
    "![cs_anatomy](./figures/cs_anatomy.png)"
   ]
  },
  {
   "cell_type": "markdown",
   "id": "4ee982be",
   "metadata": {},
   "source": [
    "![cs_prediction](./figures/cs_prediction.png)"
   ]
  },
  {
   "cell_type": "markdown",
   "id": "25cbc9dd",
   "metadata": {},
   "source": [
    "# Obtaining high-quality price data for stocks\n",
    "\n",
    "Imperial College offers access to the Wharton Research Data Dervice (WRDS). One can either use the computers in the library or apply for an account. Please see the following link for details:\n",
    "https://www.imperial.ac.uk/admin-services/library/subject-support/business/wrds/\n",
    "\n",
    "In case we have login credentials for WRDS, we can submit queries to their data base via\n",
    "https://wrds-www.wharton.upenn.edu/pages/get-data/center-research-security-prices-crsp/\n",
    "\n",
    "Now, from within WRDS, we can access stock market data from the Center for Research in Security Analysis (CRSP). WRDS in general and CRSP in particular offer a wide range of financial data, as can be seen from the below figure. For our project, we are explicitely interested in stock market data of S&P 500 components in daily frequency. "
   ]
  },
  {
   "cell_type": "markdown",
   "id": "c1126625",
   "metadata": {},
   "source": [
    "![Wharton WRDS CRSP Data](./figures/Wharton_WRDS_CRSP_data.png)"
   ]
  },
  {
   "cell_type": "markdown",
   "id": "1bb19b00",
   "metadata": {},
   "source": [
    "# Loading and pre-processing the data"
   ]
  },
  {
   "cell_type": "code",
   "execution_count": 23,
   "id": "ae900dd0",
   "metadata": {},
   "outputs": [
    {
     "data": {
      "text/plain": [
       "Index(['PERMNO', 'date', 'NAMEENDT', 'SHRCD', 'EXCHCD', 'SICCD', 'NCUSIP',\n",
       "       'TICKER', 'COMNAM', 'SHRCLS', 'TSYMBOL', 'NAICS', 'PRIMEXCH', 'TRDSTAT',\n",
       "       'SECSTAT', 'PERMCO', 'ISSUNO', 'HEXCD', 'HSICCD', 'CUSIP', 'DCLRDT',\n",
       "       'DLAMT', 'DLPDT', 'DLSTCD', 'NEXTDT', 'PAYDT', 'RCRDDT', 'SHRFLG',\n",
       "       'HSICMG', 'HSICIG', 'DISTCD', 'DIVAMT', 'FACPR', 'FACSHR', 'ACPERM',\n",
       "       'ACCOMP', 'SHRENDDT', 'NWPERM', 'DLRETX', 'DLPRC', 'DLRET', 'TRTSCD',\n",
       "       'NMSIND', 'MMCNT', 'NSDINX', 'BIDLO', 'ASKHI', 'PRC', 'VOL', 'RET',\n",
       "       'BID', 'ASK', 'SHROUT', 'CFACPR', 'CFACSHR', 'OPENPRC', 'NUMTRD',\n",
       "       'RETX', 'vwretd', 'vwretx', 'ewretd', 'ewretx', 'sprtrn'],\n",
       "      dtype='object')"
      ]
     },
     "execution_count": 23,
     "metadata": {},
     "output_type": "execute_result"
    }
   ],
   "source": [
    "# what columns are available from the Wharton CRSP data?\n",
    "pd.read_csv('./data/MSFT.csv').columns"
   ]
  },
  {
   "cell_type": "markdown",
   "id": "312de386",
   "metadata": {},
   "source": [
    "We can make use of a technique called `method chaining` to pipe multiple processing steps within Pandas. This offers two advantages\n",
    " - We start from the raw data as input statement initially. In case the data is small enough to be processed in-memory, we do not require to store intermediary results on disk which confuses transparency and is less efficient.\n",
    " - Increased code readability and transparency for debugging."
   ]
  },
  {
   "cell_type": "code",
   "execution_count": 82,
   "id": "caf32c3d",
   "metadata": {},
   "outputs": [
    {
     "data": {
      "text/html": [
       "<div>\n",
       "<style scoped>\n",
       "    .dataframe tbody tr th:only-of-type {\n",
       "        vertical-align: middle;\n",
       "    }\n",
       "\n",
       "    .dataframe tbody tr th {\n",
       "        vertical-align: top;\n",
       "    }\n",
       "\n",
       "    .dataframe thead th {\n",
       "        text-align: right;\n",
       "    }\n",
       "</style>\n",
       "<table border=\"1\" class=\"dataframe\">\n",
       "  <thead>\n",
       "    <tr style=\"text-align: right;\">\n",
       "      <th></th>\n",
       "      <th>date</th>\n",
       "      <th>open</th>\n",
       "      <th>high</th>\n",
       "      <th>low</th>\n",
       "      <th>close</th>\n",
       "      <th>vol</th>\n",
       "      <th>intraday_return</th>\n",
       "      <th>sign_intraday_return</th>\n",
       "    </tr>\n",
       "  </thead>\n",
       "  <tbody>\n",
       "    <tr>\n",
       "      <th>0</th>\n",
       "      <td>1992-06-15</td>\n",
       "      <td>75.00000</td>\n",
       "      <td>78.00000</td>\n",
       "      <td>75.00000</td>\n",
       "      <td>75.75000</td>\n",
       "      <td>1707931</td>\n",
       "      <td>0.010000</td>\n",
       "      <td>1</td>\n",
       "    </tr>\n",
       "    <tr>\n",
       "      <th>1</th>\n",
       "      <td>1992-06-16</td>\n",
       "      <td>75.50000</td>\n",
       "      <td>76.50000</td>\n",
       "      <td>72.50000</td>\n",
       "      <td>72.75000</td>\n",
       "      <td>1800280</td>\n",
       "      <td>-0.036424</td>\n",
       "      <td>-1</td>\n",
       "    </tr>\n",
       "    <tr>\n",
       "      <th>2</th>\n",
       "      <td>1992-06-17</td>\n",
       "      <td>72.50000</td>\n",
       "      <td>73.25000</td>\n",
       "      <td>71.50000</td>\n",
       "      <td>72.37500</td>\n",
       "      <td>2196679</td>\n",
       "      <td>-0.001724</td>\n",
       "      <td>-1</td>\n",
       "    </tr>\n",
       "    <tr>\n",
       "      <th>3</th>\n",
       "      <td>1992-06-18</td>\n",
       "      <td>73.00000</td>\n",
       "      <td>74.75000</td>\n",
       "      <td>71.00000</td>\n",
       "      <td>72.25000</td>\n",
       "      <td>1706769</td>\n",
       "      <td>-0.010274</td>\n",
       "      <td>-1</td>\n",
       "    </tr>\n",
       "    <tr>\n",
       "      <th>4</th>\n",
       "      <td>1992-06-19</td>\n",
       "      <td>73.50000</td>\n",
       "      <td>74.25000</td>\n",
       "      <td>72.75000</td>\n",
       "      <td>73.50000</td>\n",
       "      <td>1350828</td>\n",
       "      <td>0.000000</td>\n",
       "      <td>0</td>\n",
       "    </tr>\n",
       "    <tr>\n",
       "      <th>...</th>\n",
       "      <td>...</td>\n",
       "      <td>...</td>\n",
       "      <td>...</td>\n",
       "      <td>...</td>\n",
       "      <td>...</td>\n",
       "      <td>...</td>\n",
       "      <td>...</td>\n",
       "      <td>...</td>\n",
       "    </tr>\n",
       "    <tr>\n",
       "      <th>7685</th>\n",
       "      <td>2022-12-23</td>\n",
       "      <td>236.11000</td>\n",
       "      <td>238.87000</td>\n",
       "      <td>233.94279</td>\n",
       "      <td>238.73000</td>\n",
       "      <td>21287448</td>\n",
       "      <td>0.011097</td>\n",
       "      <td>1</td>\n",
       "    </tr>\n",
       "    <tr>\n",
       "      <th>7686</th>\n",
       "      <td>2022-12-27</td>\n",
       "      <td>238.70000</td>\n",
       "      <td>238.92999</td>\n",
       "      <td>235.83000</td>\n",
       "      <td>236.96001</td>\n",
       "      <td>16666893</td>\n",
       "      <td>-0.007289</td>\n",
       "      <td>-1</td>\n",
       "    </tr>\n",
       "    <tr>\n",
       "      <th>7687</th>\n",
       "      <td>2022-12-28</td>\n",
       "      <td>236.89000</td>\n",
       "      <td>239.72000</td>\n",
       "      <td>234.17000</td>\n",
       "      <td>234.53000</td>\n",
       "      <td>17447853</td>\n",
       "      <td>-0.009962</td>\n",
       "      <td>-1</td>\n",
       "    </tr>\n",
       "    <tr>\n",
       "      <th>7688</th>\n",
       "      <td>2022-12-29</td>\n",
       "      <td>235.64999</td>\n",
       "      <td>241.92000</td>\n",
       "      <td>235.64999</td>\n",
       "      <td>241.00999</td>\n",
       "      <td>19727159</td>\n",
       "      <td>0.022746</td>\n",
       "      <td>1</td>\n",
       "    </tr>\n",
       "    <tr>\n",
       "      <th>7689</th>\n",
       "      <td>2022-12-30</td>\n",
       "      <td>238.21001</td>\n",
       "      <td>239.96001</td>\n",
       "      <td>236.66000</td>\n",
       "      <td>239.82001</td>\n",
       "      <td>21924379</td>\n",
       "      <td>0.006759</td>\n",
       "      <td>1</td>\n",
       "    </tr>\n",
       "  </tbody>\n",
       "</table>\n",
       "<p>7690 rows × 8 columns</p>\n",
       "</div>"
      ],
      "text/plain": [
       "           date       open       high        low      close       vol  \\\n",
       "0    1992-06-15   75.00000   78.00000   75.00000   75.75000   1707931   \n",
       "1    1992-06-16   75.50000   76.50000   72.50000   72.75000   1800280   \n",
       "2    1992-06-17   72.50000   73.25000   71.50000   72.37500   2196679   \n",
       "3    1992-06-18   73.00000   74.75000   71.00000   72.25000   1706769   \n",
       "4    1992-06-19   73.50000   74.25000   72.75000   73.50000   1350828   \n",
       "...         ...        ...        ...        ...        ...       ...   \n",
       "7685 2022-12-23  236.11000  238.87000  233.94279  238.73000  21287448   \n",
       "7686 2022-12-27  238.70000  238.92999  235.83000  236.96001  16666893   \n",
       "7687 2022-12-28  236.89000  239.72000  234.17000  234.53000  17447853   \n",
       "7688 2022-12-29  235.64999  241.92000  235.64999  241.00999  19727159   \n",
       "7689 2022-12-30  238.21001  239.96001  236.66000  239.82001  21924379   \n",
       "\n",
       "      intraday_return  sign_intraday_return  \n",
       "0            0.010000                     1  \n",
       "1           -0.036424                    -1  \n",
       "2           -0.001724                    -1  \n",
       "3           -0.010274                    -1  \n",
       "4            0.000000                     0  \n",
       "...               ...                   ...  \n",
       "7685         0.011097                     1  \n",
       "7686        -0.007289                    -1  \n",
       "7687        -0.009962                    -1  \n",
       "7688         0.022746                     1  \n",
       "7689         0.006759                     1  \n",
       "\n",
       "[7690 rows x 8 columns]"
      ]
     },
     "execution_count": 82,
     "metadata": {},
     "output_type": "execute_result"
    }
   ],
   "source": [
    "df = (\n",
    "    pd.read_csv('./data/MSFT.csv', usecols=['date', 'OPENPRC', 'ASKHI', 'BIDLO', 'PRC', 'VOL'])\n",
    "    .rename(columns={'OPENPRC': 'open', 'ASKHI': 'high', 'BIDLO': 'low', 'PRC': 'close', 'VOL':'vol'})\n",
    "    .dropna()\n",
    "    .reset_index()\n",
    "    .assign(date=lambda df: pd.to_datetime(df['date'], format='%Y-%m-%d'),\n",
    "            vol=lambda df: df['vol'].astype(int),\n",
    "            intraday_return=lambda df: (df['close'] - df['open']) / df['open'],\n",
    "            sign_intraday_return=lambda df: np.sign(df['intraday_return']).astype(int))\n",
    "    [['date', 'open', 'high', 'low', 'close', 'vol', 'intraday_return', 'sign_intraday_return']]\n",
    "#     .set_index('date')\n",
    ")\n",
    "\n",
    "df"
   ]
  },
  {
   "cell_type": "code",
   "execution_count": 83,
   "id": "339395a5",
   "metadata": {},
   "outputs": [],
   "source": [
    "df['previous_day_return'] = df['sign_intraday_return'].shift(+1)#.dropna().astype(int)\n",
    "df['log_return'] = np.log(df['close'] / df['close'].shift(-1))\n",
    "df['5_days_mean_return'] = df['log_return'].rolling(window=5, min_periods=1).mean().shift(-5)  # Idea: Compute 5 days average ahead returns one day after the signal. using pd.rolling and pd.shift.\n",
    "df = df.dropna()\n",
    "# df['previous_day_return'] = df['previous_day_return'].astype(int)\n",
    "df.reset_index(drop=True, inplace=True)  "
   ]
  },
  {
   "cell_type": "code",
   "execution_count": 85,
   "id": "fd4d3f58",
   "metadata": {},
   "outputs": [
    {
     "data": {
      "text/html": [
       "<div>\n",
       "<style scoped>\n",
       "    .dataframe tbody tr th:only-of-type {\n",
       "        vertical-align: middle;\n",
       "    }\n",
       "\n",
       "    .dataframe tbody tr th {\n",
       "        vertical-align: top;\n",
       "    }\n",
       "\n",
       "    .dataframe thead th {\n",
       "        text-align: right;\n",
       "    }\n",
       "</style>\n",
       "<table border=\"1\" class=\"dataframe\">\n",
       "  <thead>\n",
       "    <tr style=\"text-align: right;\">\n",
       "      <th></th>\n",
       "      <th>date</th>\n",
       "      <th>open</th>\n",
       "      <th>high</th>\n",
       "      <th>low</th>\n",
       "      <th>close</th>\n",
       "      <th>vol</th>\n",
       "      <th>intraday_return</th>\n",
       "      <th>sign_intraday_return</th>\n",
       "      <th>previous_day_return</th>\n",
       "      <th>log_return</th>\n",
       "      <th>5_days_mean_return</th>\n",
       "    </tr>\n",
       "  </thead>\n",
       "  <tbody>\n",
       "    <tr>\n",
       "      <th>0</th>\n",
       "      <td>1992-06-16</td>\n",
       "      <td>75.50</td>\n",
       "      <td>76.50</td>\n",
       "      <td>72.50</td>\n",
       "      <td>72.750</td>\n",
       "      <td>1800280</td>\n",
       "      <td>-0.036424</td>\n",
       "      <td>-1</td>\n",
       "      <td>1.0</td>\n",
       "      <td>0.005168</td>\n",
       "      <td>0.000346</td>\n",
       "    </tr>\n",
       "    <tr>\n",
       "      <th>1</th>\n",
       "      <td>1992-06-17</td>\n",
       "      <td>72.50</td>\n",
       "      <td>73.25</td>\n",
       "      <td>71.50</td>\n",
       "      <td>72.375</td>\n",
       "      <td>2196679</td>\n",
       "      <td>-0.001724</td>\n",
       "      <td>-1</td>\n",
       "      <td>-1.0</td>\n",
       "      <td>0.001729</td>\n",
       "      <td>0.006327</td>\n",
       "    </tr>\n",
       "    <tr>\n",
       "      <th>2</th>\n",
       "      <td>1992-06-18</td>\n",
       "      <td>73.00</td>\n",
       "      <td>74.75</td>\n",
       "      <td>71.00</td>\n",
       "      <td>72.250</td>\n",
       "      <td>1706769</td>\n",
       "      <td>-0.010274</td>\n",
       "      <td>-1</td>\n",
       "      <td>-1.0</td>\n",
       "      <td>-0.017153</td>\n",
       "      <td>0.019266</td>\n",
       "    </tr>\n",
       "    <tr>\n",
       "      <th>3</th>\n",
       "      <td>1992-06-19</td>\n",
       "      <td>73.50</td>\n",
       "      <td>74.25</td>\n",
       "      <td>72.75</td>\n",
       "      <td>73.500</td>\n",
       "      <td>1350828</td>\n",
       "      <td>0.000000</td>\n",
       "      <td>0</td>\n",
       "      <td>-1.0</td>\n",
       "      <td>-0.010152</td>\n",
       "      <td>0.005461</td>\n",
       "    </tr>\n",
       "    <tr>\n",
       "      <th>4</th>\n",
       "      <td>1992-06-22</td>\n",
       "      <td>73.25</td>\n",
       "      <td>74.50</td>\n",
       "      <td>71.50</td>\n",
       "      <td>74.250</td>\n",
       "      <td>1709631</td>\n",
       "      <td>0.013652</td>\n",
       "      <td>1</td>\n",
       "      <td>0.0</td>\n",
       "      <td>0.010152</td>\n",
       "      <td>0.009758</td>\n",
       "    </tr>\n",
       "  </tbody>\n",
       "</table>\n",
       "</div>"
      ],
      "text/plain": [
       "        date   open   high    low   close      vol  intraday_return  \\\n",
       "0 1992-06-16  75.50  76.50  72.50  72.750  1800280        -0.036424   \n",
       "1 1992-06-17  72.50  73.25  71.50  72.375  2196679        -0.001724   \n",
       "2 1992-06-18  73.00  74.75  71.00  72.250  1706769        -0.010274   \n",
       "3 1992-06-19  73.50  74.25  72.75  73.500  1350828         0.000000   \n",
       "4 1992-06-22  73.25  74.50  71.50  74.250  1709631         0.013652   \n",
       "\n",
       "   sign_intraday_return  previous_day_return  log_return  5_days_mean_return  \n",
       "0                    -1                  1.0    0.005168            0.000346  \n",
       "1                    -1                 -1.0    0.001729            0.006327  \n",
       "2                    -1                 -1.0   -0.017153            0.019266  \n",
       "3                     0                 -1.0   -0.010152            0.005461  \n",
       "4                     1                  0.0    0.010152            0.009758  "
      ]
     },
     "execution_count": 85,
     "metadata": {},
     "output_type": "execute_result"
    }
   ],
   "source": [
    "df.head()"
   ]
  },
  {
   "cell_type": "markdown",
   "id": "56b40119",
   "metadata": {},
   "source": [
    "# What candlestick patterns are available?"
   ]
  },
  {
   "cell_type": "code",
   "execution_count": 86,
   "id": "520966dc",
   "metadata": {},
   "outputs": [],
   "source": [
    "candle_names = talib.get_function_groups()['Pattern Recognition']\n",
    "list_of_results_df = []\n",
    "# for ListingId in df['ListingId'].unique():\n",
    "#     equity_df = df.loc[df['ListingId']==ListingId].reset_index()\n",
    "    \n",
    "for signal in candle_names:\n",
    "    tds = df.copy()\n",
    "    tds['cs_pattern'] = getattr(talib, signal)(df['open'], df['high'], df['low'], df['close'])\n",
    "    tds['signal'] = signal\n",
    "    list_of_results_df.append(tds.set_index(['signal','date']))\n",
    "        \n",
    "result_df = pd.concat(list_of_results_df)"
   ]
  },
  {
   "cell_type": "code",
   "execution_count": 107,
   "id": "e9d28a9c",
   "metadata": {},
   "outputs": [
    {
     "data": {
      "text/html": [
       "<div>\n",
       "<style scoped>\n",
       "    .dataframe tbody tr th:only-of-type {\n",
       "        vertical-align: middle;\n",
       "    }\n",
       "\n",
       "    .dataframe tbody tr th {\n",
       "        vertical-align: top;\n",
       "    }\n",
       "\n",
       "    .dataframe thead th {\n",
       "        text-align: right;\n",
       "    }\n",
       "</style>\n",
       "<table border=\"1\" class=\"dataframe\">\n",
       "  <thead>\n",
       "    <tr style=\"text-align: right;\">\n",
       "      <th></th>\n",
       "      <th></th>\n",
       "      <th>open</th>\n",
       "      <th>high</th>\n",
       "      <th>low</th>\n",
       "      <th>close</th>\n",
       "      <th>vol</th>\n",
       "      <th>intraday_return</th>\n",
       "      <th>sign_intraday_return</th>\n",
       "      <th>previous_day_return</th>\n",
       "      <th>log_return</th>\n",
       "      <th>5_days_mean_return</th>\n",
       "      <th>cs_pattern</th>\n",
       "    </tr>\n",
       "    <tr>\n",
       "      <th>signal</th>\n",
       "      <th>date</th>\n",
       "      <th></th>\n",
       "      <th></th>\n",
       "      <th></th>\n",
       "      <th></th>\n",
       "      <th></th>\n",
       "      <th></th>\n",
       "      <th></th>\n",
       "      <th></th>\n",
       "      <th></th>\n",
       "      <th></th>\n",
       "      <th></th>\n",
       "    </tr>\n",
       "  </thead>\n",
       "  <tbody>\n",
       "    <tr>\n",
       "      <th rowspan=\"5\" valign=\"top\">CDL2CROWS</th>\n",
       "      <th>1992-06-16</th>\n",
       "      <td>75.50000</td>\n",
       "      <td>76.50000</td>\n",
       "      <td>72.50000</td>\n",
       "      <td>72.75000</td>\n",
       "      <td>1800280</td>\n",
       "      <td>-0.036424</td>\n",
       "      <td>-1</td>\n",
       "      <td>1.0</td>\n",
       "      <td>0.005168</td>\n",
       "      <td>0.000346</td>\n",
       "      <td>0</td>\n",
       "    </tr>\n",
       "    <tr>\n",
       "      <th>1992-06-17</th>\n",
       "      <td>72.50000</td>\n",
       "      <td>73.25000</td>\n",
       "      <td>71.50000</td>\n",
       "      <td>72.37500</td>\n",
       "      <td>2196679</td>\n",
       "      <td>-0.001724</td>\n",
       "      <td>-1</td>\n",
       "      <td>-1.0</td>\n",
       "      <td>0.001729</td>\n",
       "      <td>0.006327</td>\n",
       "      <td>0</td>\n",
       "    </tr>\n",
       "    <tr>\n",
       "      <th>1992-06-18</th>\n",
       "      <td>73.00000</td>\n",
       "      <td>74.75000</td>\n",
       "      <td>71.00000</td>\n",
       "      <td>72.25000</td>\n",
       "      <td>1706769</td>\n",
       "      <td>-0.010274</td>\n",
       "      <td>-1</td>\n",
       "      <td>-1.0</td>\n",
       "      <td>-0.017153</td>\n",
       "      <td>0.019266</td>\n",
       "      <td>0</td>\n",
       "    </tr>\n",
       "    <tr>\n",
       "      <th>1992-06-19</th>\n",
       "      <td>73.50000</td>\n",
       "      <td>74.25000</td>\n",
       "      <td>72.75000</td>\n",
       "      <td>73.50000</td>\n",
       "      <td>1350828</td>\n",
       "      <td>0.000000</td>\n",
       "      <td>0</td>\n",
       "      <td>-1.0</td>\n",
       "      <td>-0.010152</td>\n",
       "      <td>0.005461</td>\n",
       "      <td>0</td>\n",
       "    </tr>\n",
       "    <tr>\n",
       "      <th>1992-06-22</th>\n",
       "      <td>73.25000</td>\n",
       "      <td>74.50000</td>\n",
       "      <td>71.50000</td>\n",
       "      <td>74.25000</td>\n",
       "      <td>1709631</td>\n",
       "      <td>0.013652</td>\n",
       "      <td>1</td>\n",
       "      <td>0.0</td>\n",
       "      <td>0.010152</td>\n",
       "      <td>0.009758</td>\n",
       "      <td>0</td>\n",
       "    </tr>\n",
       "    <tr>\n",
       "      <th>...</th>\n",
       "      <th>...</th>\n",
       "      <td>...</td>\n",
       "      <td>...</td>\n",
       "      <td>...</td>\n",
       "      <td>...</td>\n",
       "      <td>...</td>\n",
       "      <td>...</td>\n",
       "      <td>...</td>\n",
       "      <td>...</td>\n",
       "      <td>...</td>\n",
       "      <td>...</td>\n",
       "      <td>...</td>\n",
       "    </tr>\n",
       "    <tr>\n",
       "      <th rowspan=\"5\" valign=\"top\">CDLXSIDEGAP3METHODS</th>\n",
       "      <th>2022-12-16</th>\n",
       "      <td>248.55000</td>\n",
       "      <td>249.84000</td>\n",
       "      <td>243.50999</td>\n",
       "      <td>244.69000</td>\n",
       "      <td>94651273</td>\n",
       "      <td>-0.015530</td>\n",
       "      <td>-1</td>\n",
       "      <td>-1.0</td>\n",
       "      <td>0.017480</td>\n",
       "      <td>0.002924</td>\n",
       "      <td>0</td>\n",
       "    </tr>\n",
       "    <tr>\n",
       "      <th>2022-12-19</th>\n",
       "      <td>244.86000</td>\n",
       "      <td>245.21001</td>\n",
       "      <td>238.71001</td>\n",
       "      <td>240.45000</td>\n",
       "      <td>29634558</td>\n",
       "      <td>-0.018010</td>\n",
       "      <td>-1</td>\n",
       "      <td>-1.0</td>\n",
       "      <td>-0.005599</td>\n",
       "      <td>0.006105</td>\n",
       "      <td>0</td>\n",
       "    </tr>\n",
       "    <tr>\n",
       "      <th>2022-12-20</th>\n",
       "      <td>239.39999</td>\n",
       "      <td>242.91000</td>\n",
       "      <td>238.42000</td>\n",
       "      <td>241.80000</td>\n",
       "      <td>25126887</td>\n",
       "      <td>0.010025</td>\n",
       "      <td>1</td>\n",
       "      <td>-1.0</td>\n",
       "      <td>-0.010818</td>\n",
       "      <td>0.002818</td>\n",
       "      <td>0</td>\n",
       "    </tr>\n",
       "    <tr>\n",
       "      <th>2022-12-21</th>\n",
       "      <td>241.69000</td>\n",
       "      <td>245.61501</td>\n",
       "      <td>240.11000</td>\n",
       "      <td>244.42999</td>\n",
       "      <td>23639790</td>\n",
       "      <td>0.011337</td>\n",
       "      <td>1</td>\n",
       "      <td>1.0</td>\n",
       "      <td>0.025860</td>\n",
       "      <td>-0.001364</td>\n",
       "      <td>0</td>\n",
       "    </tr>\n",
       "    <tr>\n",
       "      <th>2022-12-22</th>\n",
       "      <td>241.25500</td>\n",
       "      <td>241.99001</td>\n",
       "      <td>233.87000</td>\n",
       "      <td>238.19000</td>\n",
       "      <td>28616381</td>\n",
       "      <td>-0.012704</td>\n",
       "      <td>-1</td>\n",
       "      <td>1.0</td>\n",
       "      <td>-0.002265</td>\n",
       "      <td>-0.001139</td>\n",
       "      <td>0</td>\n",
       "    </tr>\n",
       "  </tbody>\n",
       "</table>\n",
       "<p>468724 rows × 11 columns</p>\n",
       "</div>"
      ],
      "text/plain": [
       "                                     open       high        low      close  \\\n",
       "signal              date                                                     \n",
       "CDL2CROWS           1992-06-16   75.50000   76.50000   72.50000   72.75000   \n",
       "                    1992-06-17   72.50000   73.25000   71.50000   72.37500   \n",
       "                    1992-06-18   73.00000   74.75000   71.00000   72.25000   \n",
       "                    1992-06-19   73.50000   74.25000   72.75000   73.50000   \n",
       "                    1992-06-22   73.25000   74.50000   71.50000   74.25000   \n",
       "...                                   ...        ...        ...        ...   \n",
       "CDLXSIDEGAP3METHODS 2022-12-16  248.55000  249.84000  243.50999  244.69000   \n",
       "                    2022-12-19  244.86000  245.21001  238.71001  240.45000   \n",
       "                    2022-12-20  239.39999  242.91000  238.42000  241.80000   \n",
       "                    2022-12-21  241.69000  245.61501  240.11000  244.42999   \n",
       "                    2022-12-22  241.25500  241.99001  233.87000  238.19000   \n",
       "\n",
       "                                     vol  intraday_return  \\\n",
       "signal              date                                    \n",
       "CDL2CROWS           1992-06-16   1800280        -0.036424   \n",
       "                    1992-06-17   2196679        -0.001724   \n",
       "                    1992-06-18   1706769        -0.010274   \n",
       "                    1992-06-19   1350828         0.000000   \n",
       "                    1992-06-22   1709631         0.013652   \n",
       "...                                  ...              ...   \n",
       "CDLXSIDEGAP3METHODS 2022-12-16  94651273        -0.015530   \n",
       "                    2022-12-19  29634558        -0.018010   \n",
       "                    2022-12-20  25126887         0.010025   \n",
       "                    2022-12-21  23639790         0.011337   \n",
       "                    2022-12-22  28616381        -0.012704   \n",
       "\n",
       "                                sign_intraday_return  previous_day_return  \\\n",
       "signal              date                                                    \n",
       "CDL2CROWS           1992-06-16                    -1                  1.0   \n",
       "                    1992-06-17                    -1                 -1.0   \n",
       "                    1992-06-18                    -1                 -1.0   \n",
       "                    1992-06-19                     0                 -1.0   \n",
       "                    1992-06-22                     1                  0.0   \n",
       "...                                              ...                  ...   \n",
       "CDLXSIDEGAP3METHODS 2022-12-16                    -1                 -1.0   \n",
       "                    2022-12-19                    -1                 -1.0   \n",
       "                    2022-12-20                     1                 -1.0   \n",
       "                    2022-12-21                     1                  1.0   \n",
       "                    2022-12-22                    -1                  1.0   \n",
       "\n",
       "                                log_return  5_days_mean_return  cs_pattern  \n",
       "signal              date                                                    \n",
       "CDL2CROWS           1992-06-16    0.005168            0.000346           0  \n",
       "                    1992-06-17    0.001729            0.006327           0  \n",
       "                    1992-06-18   -0.017153            0.019266           0  \n",
       "                    1992-06-19   -0.010152            0.005461           0  \n",
       "                    1992-06-22    0.010152            0.009758           0  \n",
       "...                                    ...                 ...         ...  \n",
       "CDLXSIDEGAP3METHODS 2022-12-16    0.017480            0.002924           0  \n",
       "                    2022-12-19   -0.005599            0.006105           0  \n",
       "                    2022-12-20   -0.010818            0.002818           0  \n",
       "                    2022-12-21    0.025860           -0.001364           0  \n",
       "                    2022-12-22   -0.002265           -0.001139           0  \n",
       "\n",
       "[468724 rows x 11 columns]"
      ]
     },
     "execution_count": 107,
     "metadata": {},
     "output_type": "execute_result"
    }
   ],
   "source": [
    "result_df"
   ]
  },
  {
   "cell_type": "markdown",
   "id": "f5499f2f",
   "metadata": {},
   "source": [
    "## How to visually inspect the signals"
   ]
  },
  {
   "cell_type": "code",
   "execution_count": 100,
   "id": "e4e5a16a",
   "metadata": {},
   "outputs": [],
   "source": [
    "import plotly.graph_objects as go\n",
    "\n",
    "def plot_cs_chart(df: pd.DataFrame, ListingId=None) -> go.Figure:\n",
    "    if ListingId is None:\n",
    "        fig = go.Figure(data=[go.Candlestick(x=df.index,\n",
    "                    open=df['open'],\n",
    "                    high=df['high'],\n",
    "                    low=df['low'],\n",
    "                    close=df['close']\n",
    "                    )])\n",
    "\n",
    "        fig.update_layout(\n",
    "            font=dict(size=18),\n",
    "            legend=dict(yanchor=\"top\", y=0.99, xanchor=\"right\", x=0.99,font=dict(size= 20)),\n",
    "            title = 'Evolution of price chart diplayed as candlestick chart',\n",
    "            xaxis_title='time [days]',\n",
    "            yaxis_title=\"price\",\n",
    "            autosize=False,\n",
    "            width=800,\n",
    "            height=800\n",
    "            )\n",
    "\n",
    "        fig.show()\n",
    "    \n",
    "    elif ListingId is not None:\n",
    "        fig = go.Figure(data=[go.Candlestick(x=df['Date'][df['ListingId']==ListingId],\n",
    "                        open=df['open'][df['ListingId']==ListingId],\n",
    "                        high=df['high'][df['ListingId']==ListingId],\n",
    "                        low=df['low'][df['ListingId']==ListingId],\n",
    "                        close=df['close'][df['ListingId']==ListingId]\n",
    "                        )])\n",
    "\n",
    "        fig.update_layout(\n",
    "            font=dict(size=18),\n",
    "            legend=dict(yanchor=\"top\", y=0.99, xanchor=\"right\", x=0.99,font=dict(size= 20)),\n",
    "            title = 'Evolution of price chart diplayed as candlestick chart',\n",
    "            xaxis_title='time [days]',\n",
    "            yaxis_title=\"price\",\n",
    "            autosize=False,\n",
    "            width=800,\n",
    "            height=800\n",
    "            )\n",
    "\n",
    "        fig.show()\n",
    "        \n",
    "    else:\n",
    "        print('Do not understand plotting instruction. Check data frame and ListingId')"
   ]
  },
  {
   "cell_type": "code",
   "execution_count": 102,
   "id": "dc08210b",
   "metadata": {},
   "outputs": [
    {
     "data": {
      "application/vnd.plotly.v1+json": {
       "config": {
        "plotlyServerURL": "https://plot.ly"
       },
       "data": [
        {
         "close": [
          72.75,
          72.375,
          72.25,
          73.5,
          74.25,
          73.5,
          72.25,
          70,
          66.75,
          72.25,
          70,
          72.125,
          69.875,
          69.5,
          68,
          68.625,
          69,
          69.375,
          70,
          71.125
         ],
         "high": [
          76.5,
          73.25,
          74.75,
          74.25,
          74.5,
          75.75,
          73.75,
          72.25,
          69.75,
          72.75,
          73,
          72.75,
          73,
          70.25,
          69.75,
          69,
          70.75,
          70,
          71.25,
          71.5
         ],
         "low": [
          72.5,
          71.5,
          71,
          72.75,
          71.5,
          72.75,
          71.75,
          66.5,
          65.75,
          68.25,
          69.5,
          69.5,
          68.75,
          67.75,
          67.25,
          65.5,
          68.25,
          67.625,
          68.5,
          70.25
         ],
         "open": [
          75.5,
          72.5,
          73,
          73.5,
          73.25,
          74.75,
          73.75,
          72.25,
          69.5,
          68.5,
          72.75,
          70.25,
          72.75,
          70,
          69.75,
          68,
          69,
          69.25,
          69.75,
          70.5
         ],
         "type": "candlestick",
         "x": [
          "1992-06-16T00:00:00",
          "1992-06-17T00:00:00",
          "1992-06-18T00:00:00",
          "1992-06-19T00:00:00",
          "1992-06-22T00:00:00",
          "1992-06-23T00:00:00",
          "1992-06-24T00:00:00",
          "1992-06-25T00:00:00",
          "1992-06-26T00:00:00",
          "1992-06-29T00:00:00",
          "1992-06-30T00:00:00",
          "1992-07-01T00:00:00",
          "1992-07-02T00:00:00",
          "1992-07-06T00:00:00",
          "1992-07-07T00:00:00",
          "1992-07-08T00:00:00",
          "1992-07-09T00:00:00",
          "1992-07-10T00:00:00",
          "1992-07-13T00:00:00",
          "1992-07-14T00:00:00"
         ]
        }
       ],
       "layout": {
        "autosize": false,
        "font": {
         "size": 18
        },
        "height": 800,
        "legend": {
         "font": {
          "size": 20
         },
         "x": 0.99,
         "xanchor": "right",
         "y": 0.99,
         "yanchor": "top"
        },
        "template": {
         "data": {
          "bar": [
           {
            "error_x": {
             "color": "#2a3f5f"
            },
            "error_y": {
             "color": "#2a3f5f"
            },
            "marker": {
             "line": {
              "color": "#E5ECF6",
              "width": 0.5
             },
             "pattern": {
              "fillmode": "overlay",
              "size": 10,
              "solidity": 0.2
             }
            },
            "type": "bar"
           }
          ],
          "barpolar": [
           {
            "marker": {
             "line": {
              "color": "#E5ECF6",
              "width": 0.5
             },
             "pattern": {
              "fillmode": "overlay",
              "size": 10,
              "solidity": 0.2
             }
            },
            "type": "barpolar"
           }
          ],
          "carpet": [
           {
            "aaxis": {
             "endlinecolor": "#2a3f5f",
             "gridcolor": "white",
             "linecolor": "white",
             "minorgridcolor": "white",
             "startlinecolor": "#2a3f5f"
            },
            "baxis": {
             "endlinecolor": "#2a3f5f",
             "gridcolor": "white",
             "linecolor": "white",
             "minorgridcolor": "white",
             "startlinecolor": "#2a3f5f"
            },
            "type": "carpet"
           }
          ],
          "choropleth": [
           {
            "colorbar": {
             "outlinewidth": 0,
             "ticks": ""
            },
            "type": "choropleth"
           }
          ],
          "contour": [
           {
            "colorbar": {
             "outlinewidth": 0,
             "ticks": ""
            },
            "colorscale": [
             [
              0,
              "#0d0887"
             ],
             [
              0.1111111111111111,
              "#46039f"
             ],
             [
              0.2222222222222222,
              "#7201a8"
             ],
             [
              0.3333333333333333,
              "#9c179e"
             ],
             [
              0.4444444444444444,
              "#bd3786"
             ],
             [
              0.5555555555555556,
              "#d8576b"
             ],
             [
              0.6666666666666666,
              "#ed7953"
             ],
             [
              0.7777777777777778,
              "#fb9f3a"
             ],
             [
              0.8888888888888888,
              "#fdca26"
             ],
             [
              1,
              "#f0f921"
             ]
            ],
            "type": "contour"
           }
          ],
          "contourcarpet": [
           {
            "colorbar": {
             "outlinewidth": 0,
             "ticks": ""
            },
            "type": "contourcarpet"
           }
          ],
          "heatmap": [
           {
            "colorbar": {
             "outlinewidth": 0,
             "ticks": ""
            },
            "colorscale": [
             [
              0,
              "#0d0887"
             ],
             [
              0.1111111111111111,
              "#46039f"
             ],
             [
              0.2222222222222222,
              "#7201a8"
             ],
             [
              0.3333333333333333,
              "#9c179e"
             ],
             [
              0.4444444444444444,
              "#bd3786"
             ],
             [
              0.5555555555555556,
              "#d8576b"
             ],
             [
              0.6666666666666666,
              "#ed7953"
             ],
             [
              0.7777777777777778,
              "#fb9f3a"
             ],
             [
              0.8888888888888888,
              "#fdca26"
             ],
             [
              1,
              "#f0f921"
             ]
            ],
            "type": "heatmap"
           }
          ],
          "heatmapgl": [
           {
            "colorbar": {
             "outlinewidth": 0,
             "ticks": ""
            },
            "colorscale": [
             [
              0,
              "#0d0887"
             ],
             [
              0.1111111111111111,
              "#46039f"
             ],
             [
              0.2222222222222222,
              "#7201a8"
             ],
             [
              0.3333333333333333,
              "#9c179e"
             ],
             [
              0.4444444444444444,
              "#bd3786"
             ],
             [
              0.5555555555555556,
              "#d8576b"
             ],
             [
              0.6666666666666666,
              "#ed7953"
             ],
             [
              0.7777777777777778,
              "#fb9f3a"
             ],
             [
              0.8888888888888888,
              "#fdca26"
             ],
             [
              1,
              "#f0f921"
             ]
            ],
            "type": "heatmapgl"
           }
          ],
          "histogram": [
           {
            "marker": {
             "pattern": {
              "fillmode": "overlay",
              "size": 10,
              "solidity": 0.2
             }
            },
            "type": "histogram"
           }
          ],
          "histogram2d": [
           {
            "colorbar": {
             "outlinewidth": 0,
             "ticks": ""
            },
            "colorscale": [
             [
              0,
              "#0d0887"
             ],
             [
              0.1111111111111111,
              "#46039f"
             ],
             [
              0.2222222222222222,
              "#7201a8"
             ],
             [
              0.3333333333333333,
              "#9c179e"
             ],
             [
              0.4444444444444444,
              "#bd3786"
             ],
             [
              0.5555555555555556,
              "#d8576b"
             ],
             [
              0.6666666666666666,
              "#ed7953"
             ],
             [
              0.7777777777777778,
              "#fb9f3a"
             ],
             [
              0.8888888888888888,
              "#fdca26"
             ],
             [
              1,
              "#f0f921"
             ]
            ],
            "type": "histogram2d"
           }
          ],
          "histogram2dcontour": [
           {
            "colorbar": {
             "outlinewidth": 0,
             "ticks": ""
            },
            "colorscale": [
             [
              0,
              "#0d0887"
             ],
             [
              0.1111111111111111,
              "#46039f"
             ],
             [
              0.2222222222222222,
              "#7201a8"
             ],
             [
              0.3333333333333333,
              "#9c179e"
             ],
             [
              0.4444444444444444,
              "#bd3786"
             ],
             [
              0.5555555555555556,
              "#d8576b"
             ],
             [
              0.6666666666666666,
              "#ed7953"
             ],
             [
              0.7777777777777778,
              "#fb9f3a"
             ],
             [
              0.8888888888888888,
              "#fdca26"
             ],
             [
              1,
              "#f0f921"
             ]
            ],
            "type": "histogram2dcontour"
           }
          ],
          "mesh3d": [
           {
            "colorbar": {
             "outlinewidth": 0,
             "ticks": ""
            },
            "type": "mesh3d"
           }
          ],
          "parcoords": [
           {
            "line": {
             "colorbar": {
              "outlinewidth": 0,
              "ticks": ""
             }
            },
            "type": "parcoords"
           }
          ],
          "pie": [
           {
            "automargin": true,
            "type": "pie"
           }
          ],
          "scatter": [
           {
            "marker": {
             "colorbar": {
              "outlinewidth": 0,
              "ticks": ""
             }
            },
            "type": "scatter"
           }
          ],
          "scatter3d": [
           {
            "line": {
             "colorbar": {
              "outlinewidth": 0,
              "ticks": ""
             }
            },
            "marker": {
             "colorbar": {
              "outlinewidth": 0,
              "ticks": ""
             }
            },
            "type": "scatter3d"
           }
          ],
          "scattercarpet": [
           {
            "marker": {
             "colorbar": {
              "outlinewidth": 0,
              "ticks": ""
             }
            },
            "type": "scattercarpet"
           }
          ],
          "scattergeo": [
           {
            "marker": {
             "colorbar": {
              "outlinewidth": 0,
              "ticks": ""
             }
            },
            "type": "scattergeo"
           }
          ],
          "scattergl": [
           {
            "marker": {
             "colorbar": {
              "outlinewidth": 0,
              "ticks": ""
             }
            },
            "type": "scattergl"
           }
          ],
          "scattermapbox": [
           {
            "marker": {
             "colorbar": {
              "outlinewidth": 0,
              "ticks": ""
             }
            },
            "type": "scattermapbox"
           }
          ],
          "scatterpolar": [
           {
            "marker": {
             "colorbar": {
              "outlinewidth": 0,
              "ticks": ""
             }
            },
            "type": "scatterpolar"
           }
          ],
          "scatterpolargl": [
           {
            "marker": {
             "colorbar": {
              "outlinewidth": 0,
              "ticks": ""
             }
            },
            "type": "scatterpolargl"
           }
          ],
          "scatterternary": [
           {
            "marker": {
             "colorbar": {
              "outlinewidth": 0,
              "ticks": ""
             }
            },
            "type": "scatterternary"
           }
          ],
          "surface": [
           {
            "colorbar": {
             "outlinewidth": 0,
             "ticks": ""
            },
            "colorscale": [
             [
              0,
              "#0d0887"
             ],
             [
              0.1111111111111111,
              "#46039f"
             ],
             [
              0.2222222222222222,
              "#7201a8"
             ],
             [
              0.3333333333333333,
              "#9c179e"
             ],
             [
              0.4444444444444444,
              "#bd3786"
             ],
             [
              0.5555555555555556,
              "#d8576b"
             ],
             [
              0.6666666666666666,
              "#ed7953"
             ],
             [
              0.7777777777777778,
              "#fb9f3a"
             ],
             [
              0.8888888888888888,
              "#fdca26"
             ],
             [
              1,
              "#f0f921"
             ]
            ],
            "type": "surface"
           }
          ],
          "table": [
           {
            "cells": {
             "fill": {
              "color": "#EBF0F8"
             },
             "line": {
              "color": "white"
             }
            },
            "header": {
             "fill": {
              "color": "#C8D4E3"
             },
             "line": {
              "color": "white"
             }
            },
            "type": "table"
           }
          ]
         },
         "layout": {
          "annotationdefaults": {
           "arrowcolor": "#2a3f5f",
           "arrowhead": 0,
           "arrowwidth": 1
          },
          "autotypenumbers": "strict",
          "coloraxis": {
           "colorbar": {
            "outlinewidth": 0,
            "ticks": ""
           }
          },
          "colorscale": {
           "diverging": [
            [
             0,
             "#8e0152"
            ],
            [
             0.1,
             "#c51b7d"
            ],
            [
             0.2,
             "#de77ae"
            ],
            [
             0.3,
             "#f1b6da"
            ],
            [
             0.4,
             "#fde0ef"
            ],
            [
             0.5,
             "#f7f7f7"
            ],
            [
             0.6,
             "#e6f5d0"
            ],
            [
             0.7,
             "#b8e186"
            ],
            [
             0.8,
             "#7fbc41"
            ],
            [
             0.9,
             "#4d9221"
            ],
            [
             1,
             "#276419"
            ]
           ],
           "sequential": [
            [
             0,
             "#0d0887"
            ],
            [
             0.1111111111111111,
             "#46039f"
            ],
            [
             0.2222222222222222,
             "#7201a8"
            ],
            [
             0.3333333333333333,
             "#9c179e"
            ],
            [
             0.4444444444444444,
             "#bd3786"
            ],
            [
             0.5555555555555556,
             "#d8576b"
            ],
            [
             0.6666666666666666,
             "#ed7953"
            ],
            [
             0.7777777777777778,
             "#fb9f3a"
            ],
            [
             0.8888888888888888,
             "#fdca26"
            ],
            [
             1,
             "#f0f921"
            ]
           ],
           "sequentialminus": [
            [
             0,
             "#0d0887"
            ],
            [
             0.1111111111111111,
             "#46039f"
            ],
            [
             0.2222222222222222,
             "#7201a8"
            ],
            [
             0.3333333333333333,
             "#9c179e"
            ],
            [
             0.4444444444444444,
             "#bd3786"
            ],
            [
             0.5555555555555556,
             "#d8576b"
            ],
            [
             0.6666666666666666,
             "#ed7953"
            ],
            [
             0.7777777777777778,
             "#fb9f3a"
            ],
            [
             0.8888888888888888,
             "#fdca26"
            ],
            [
             1,
             "#f0f921"
            ]
           ]
          },
          "colorway": [
           "#636efa",
           "#EF553B",
           "#00cc96",
           "#ab63fa",
           "#FFA15A",
           "#19d3f3",
           "#FF6692",
           "#B6E880",
           "#FF97FF",
           "#FECB52"
          ],
          "font": {
           "color": "#2a3f5f"
          },
          "geo": {
           "bgcolor": "white",
           "lakecolor": "white",
           "landcolor": "#E5ECF6",
           "showlakes": true,
           "showland": true,
           "subunitcolor": "white"
          },
          "hoverlabel": {
           "align": "left"
          },
          "hovermode": "closest",
          "mapbox": {
           "style": "light"
          },
          "paper_bgcolor": "white",
          "plot_bgcolor": "#E5ECF6",
          "polar": {
           "angularaxis": {
            "gridcolor": "white",
            "linecolor": "white",
            "ticks": ""
           },
           "bgcolor": "#E5ECF6",
           "radialaxis": {
            "gridcolor": "white",
            "linecolor": "white",
            "ticks": ""
           }
          },
          "scene": {
           "xaxis": {
            "backgroundcolor": "#E5ECF6",
            "gridcolor": "white",
            "gridwidth": 2,
            "linecolor": "white",
            "showbackground": true,
            "ticks": "",
            "zerolinecolor": "white"
           },
           "yaxis": {
            "backgroundcolor": "#E5ECF6",
            "gridcolor": "white",
            "gridwidth": 2,
            "linecolor": "white",
            "showbackground": true,
            "ticks": "",
            "zerolinecolor": "white"
           },
           "zaxis": {
            "backgroundcolor": "#E5ECF6",
            "gridcolor": "white",
            "gridwidth": 2,
            "linecolor": "white",
            "showbackground": true,
            "ticks": "",
            "zerolinecolor": "white"
           }
          },
          "shapedefaults": {
           "line": {
            "color": "#2a3f5f"
           }
          },
          "ternary": {
           "aaxis": {
            "gridcolor": "white",
            "linecolor": "white",
            "ticks": ""
           },
           "baxis": {
            "gridcolor": "white",
            "linecolor": "white",
            "ticks": ""
           },
           "bgcolor": "#E5ECF6",
           "caxis": {
            "gridcolor": "white",
            "linecolor": "white",
            "ticks": ""
           }
          },
          "title": {
           "x": 0.05
          },
          "xaxis": {
           "automargin": true,
           "gridcolor": "white",
           "linecolor": "white",
           "ticks": "",
           "title": {
            "standoff": 15
           },
           "zerolinecolor": "white",
           "zerolinewidth": 2
          },
          "yaxis": {
           "automargin": true,
           "gridcolor": "white",
           "linecolor": "white",
           "ticks": "",
           "title": {
            "standoff": 15
           },
           "zerolinecolor": "white",
           "zerolinewidth": 2
          }
         }
        },
        "title": {
         "text": "Evolution of price chart diplayed as candlestick chart"
        },
        "width": 800,
        "xaxis": {
         "title": {
          "text": "time [days]"
         }
        },
        "yaxis": {
         "title": {
          "text": "price"
         }
        }
       }
      },
      "text/html": [
       "<div>                            <div id=\"779a4091-6e3c-41e9-a4e4-b12ae62bc097\" class=\"plotly-graph-div\" style=\"height:800px; width:800px;\"></div>            <script type=\"text/javascript\">                require([\"plotly\"], function(Plotly) {                    window.PLOTLYENV=window.PLOTLYENV || {};                                    if (document.getElementById(\"779a4091-6e3c-41e9-a4e4-b12ae62bc097\")) {                    Plotly.newPlot(                        \"779a4091-6e3c-41e9-a4e4-b12ae62bc097\",                        [{\"close\":[72.75,72.375,72.25,73.5,74.25,73.5,72.25,70.0,66.75,72.25,70.0,72.125,69.875,69.5,68.0,68.625,69.0,69.375,70.0,71.125],\"high\":[76.5,73.25,74.75,74.25,74.5,75.75,73.75,72.25,69.75,72.75,73.0,72.75,73.0,70.25,69.75,69.0,70.75,70.0,71.25,71.5],\"low\":[72.5,71.5,71.0,72.75,71.5,72.75,71.75,66.5,65.75,68.25,69.5,69.5,68.75,67.75,67.25,65.5,68.25,67.625,68.5,70.25],\"open\":[75.5,72.5,73.0,73.5,73.25,74.75,73.75,72.25,69.5,68.5,72.75,70.25,72.75,70.0,69.75,68.0,69.0,69.25,69.75,70.5],\"type\":\"candlestick\",\"x\":[\"1992-06-16T00:00:00\",\"1992-06-17T00:00:00\",\"1992-06-18T00:00:00\",\"1992-06-19T00:00:00\",\"1992-06-22T00:00:00\",\"1992-06-23T00:00:00\",\"1992-06-24T00:00:00\",\"1992-06-25T00:00:00\",\"1992-06-26T00:00:00\",\"1992-06-29T00:00:00\",\"1992-06-30T00:00:00\",\"1992-07-01T00:00:00\",\"1992-07-02T00:00:00\",\"1992-07-06T00:00:00\",\"1992-07-07T00:00:00\",\"1992-07-08T00:00:00\",\"1992-07-09T00:00:00\",\"1992-07-10T00:00:00\",\"1992-07-13T00:00:00\",\"1992-07-14T00:00:00\"]}],                        {\"autosize\":false,\"font\":{\"size\":18},\"height\":800,\"legend\":{\"font\":{\"size\":20},\"x\":0.99,\"xanchor\":\"right\",\"y\":0.99,\"yanchor\":\"top\"},\"template\":{\"data\":{\"bar\":[{\"error_x\":{\"color\":\"#2a3f5f\"},\"error_y\":{\"color\":\"#2a3f5f\"},\"marker\":{\"line\":{\"color\":\"#E5ECF6\",\"width\":0.5},\"pattern\":{\"fillmode\":\"overlay\",\"size\":10,\"solidity\":0.2}},\"type\":\"bar\"}],\"barpolar\":[{\"marker\":{\"line\":{\"color\":\"#E5ECF6\",\"width\":0.5},\"pattern\":{\"fillmode\":\"overlay\",\"size\":10,\"solidity\":0.2}},\"type\":\"barpolar\"}],\"carpet\":[{\"aaxis\":{\"endlinecolor\":\"#2a3f5f\",\"gridcolor\":\"white\",\"linecolor\":\"white\",\"minorgridcolor\":\"white\",\"startlinecolor\":\"#2a3f5f\"},\"baxis\":{\"endlinecolor\":\"#2a3f5f\",\"gridcolor\":\"white\",\"linecolor\":\"white\",\"minorgridcolor\":\"white\",\"startlinecolor\":\"#2a3f5f\"},\"type\":\"carpet\"}],\"choropleth\":[{\"colorbar\":{\"outlinewidth\":0,\"ticks\":\"\"},\"type\":\"choropleth\"}],\"contour\":[{\"colorbar\":{\"outlinewidth\":0,\"ticks\":\"\"},\"colorscale\":[[0.0,\"#0d0887\"],[0.1111111111111111,\"#46039f\"],[0.2222222222222222,\"#7201a8\"],[0.3333333333333333,\"#9c179e\"],[0.4444444444444444,\"#bd3786\"],[0.5555555555555556,\"#d8576b\"],[0.6666666666666666,\"#ed7953\"],[0.7777777777777778,\"#fb9f3a\"],[0.8888888888888888,\"#fdca26\"],[1.0,\"#f0f921\"]],\"type\":\"contour\"}],\"contourcarpet\":[{\"colorbar\":{\"outlinewidth\":0,\"ticks\":\"\"},\"type\":\"contourcarpet\"}],\"heatmap\":[{\"colorbar\":{\"outlinewidth\":0,\"ticks\":\"\"},\"colorscale\":[[0.0,\"#0d0887\"],[0.1111111111111111,\"#46039f\"],[0.2222222222222222,\"#7201a8\"],[0.3333333333333333,\"#9c179e\"],[0.4444444444444444,\"#bd3786\"],[0.5555555555555556,\"#d8576b\"],[0.6666666666666666,\"#ed7953\"],[0.7777777777777778,\"#fb9f3a\"],[0.8888888888888888,\"#fdca26\"],[1.0,\"#f0f921\"]],\"type\":\"heatmap\"}],\"heatmapgl\":[{\"colorbar\":{\"outlinewidth\":0,\"ticks\":\"\"},\"colorscale\":[[0.0,\"#0d0887\"],[0.1111111111111111,\"#46039f\"],[0.2222222222222222,\"#7201a8\"],[0.3333333333333333,\"#9c179e\"],[0.4444444444444444,\"#bd3786\"],[0.5555555555555556,\"#d8576b\"],[0.6666666666666666,\"#ed7953\"],[0.7777777777777778,\"#fb9f3a\"],[0.8888888888888888,\"#fdca26\"],[1.0,\"#f0f921\"]],\"type\":\"heatmapgl\"}],\"histogram\":[{\"marker\":{\"pattern\":{\"fillmode\":\"overlay\",\"size\":10,\"solidity\":0.2}},\"type\":\"histogram\"}],\"histogram2d\":[{\"colorbar\":{\"outlinewidth\":0,\"ticks\":\"\"},\"colorscale\":[[0.0,\"#0d0887\"],[0.1111111111111111,\"#46039f\"],[0.2222222222222222,\"#7201a8\"],[0.3333333333333333,\"#9c179e\"],[0.4444444444444444,\"#bd3786\"],[0.5555555555555556,\"#d8576b\"],[0.6666666666666666,\"#ed7953\"],[0.7777777777777778,\"#fb9f3a\"],[0.8888888888888888,\"#fdca26\"],[1.0,\"#f0f921\"]],\"type\":\"histogram2d\"}],\"histogram2dcontour\":[{\"colorbar\":{\"outlinewidth\":0,\"ticks\":\"\"},\"colorscale\":[[0.0,\"#0d0887\"],[0.1111111111111111,\"#46039f\"],[0.2222222222222222,\"#7201a8\"],[0.3333333333333333,\"#9c179e\"],[0.4444444444444444,\"#bd3786\"],[0.5555555555555556,\"#d8576b\"],[0.6666666666666666,\"#ed7953\"],[0.7777777777777778,\"#fb9f3a\"],[0.8888888888888888,\"#fdca26\"],[1.0,\"#f0f921\"]],\"type\":\"histogram2dcontour\"}],\"mesh3d\":[{\"colorbar\":{\"outlinewidth\":0,\"ticks\":\"\"},\"type\":\"mesh3d\"}],\"parcoords\":[{\"line\":{\"colorbar\":{\"outlinewidth\":0,\"ticks\":\"\"}},\"type\":\"parcoords\"}],\"pie\":[{\"automargin\":true,\"type\":\"pie\"}],\"scatter\":[{\"marker\":{\"colorbar\":{\"outlinewidth\":0,\"ticks\":\"\"}},\"type\":\"scatter\"}],\"scatter3d\":[{\"line\":{\"colorbar\":{\"outlinewidth\":0,\"ticks\":\"\"}},\"marker\":{\"colorbar\":{\"outlinewidth\":0,\"ticks\":\"\"}},\"type\":\"scatter3d\"}],\"scattercarpet\":[{\"marker\":{\"colorbar\":{\"outlinewidth\":0,\"ticks\":\"\"}},\"type\":\"scattercarpet\"}],\"scattergeo\":[{\"marker\":{\"colorbar\":{\"outlinewidth\":0,\"ticks\":\"\"}},\"type\":\"scattergeo\"}],\"scattergl\":[{\"marker\":{\"colorbar\":{\"outlinewidth\":0,\"ticks\":\"\"}},\"type\":\"scattergl\"}],\"scattermapbox\":[{\"marker\":{\"colorbar\":{\"outlinewidth\":0,\"ticks\":\"\"}},\"type\":\"scattermapbox\"}],\"scatterpolar\":[{\"marker\":{\"colorbar\":{\"outlinewidth\":0,\"ticks\":\"\"}},\"type\":\"scatterpolar\"}],\"scatterpolargl\":[{\"marker\":{\"colorbar\":{\"outlinewidth\":0,\"ticks\":\"\"}},\"type\":\"scatterpolargl\"}],\"scatterternary\":[{\"marker\":{\"colorbar\":{\"outlinewidth\":0,\"ticks\":\"\"}},\"type\":\"scatterternary\"}],\"surface\":[{\"colorbar\":{\"outlinewidth\":0,\"ticks\":\"\"},\"colorscale\":[[0.0,\"#0d0887\"],[0.1111111111111111,\"#46039f\"],[0.2222222222222222,\"#7201a8\"],[0.3333333333333333,\"#9c179e\"],[0.4444444444444444,\"#bd3786\"],[0.5555555555555556,\"#d8576b\"],[0.6666666666666666,\"#ed7953\"],[0.7777777777777778,\"#fb9f3a\"],[0.8888888888888888,\"#fdca26\"],[1.0,\"#f0f921\"]],\"type\":\"surface\"}],\"table\":[{\"cells\":{\"fill\":{\"color\":\"#EBF0F8\"},\"line\":{\"color\":\"white\"}},\"header\":{\"fill\":{\"color\":\"#C8D4E3\"},\"line\":{\"color\":\"white\"}},\"type\":\"table\"}]},\"layout\":{\"annotationdefaults\":{\"arrowcolor\":\"#2a3f5f\",\"arrowhead\":0,\"arrowwidth\":1},\"autotypenumbers\":\"strict\",\"coloraxis\":{\"colorbar\":{\"outlinewidth\":0,\"ticks\":\"\"}},\"colorscale\":{\"diverging\":[[0,\"#8e0152\"],[0.1,\"#c51b7d\"],[0.2,\"#de77ae\"],[0.3,\"#f1b6da\"],[0.4,\"#fde0ef\"],[0.5,\"#f7f7f7\"],[0.6,\"#e6f5d0\"],[0.7,\"#b8e186\"],[0.8,\"#7fbc41\"],[0.9,\"#4d9221\"],[1,\"#276419\"]],\"sequential\":[[0.0,\"#0d0887\"],[0.1111111111111111,\"#46039f\"],[0.2222222222222222,\"#7201a8\"],[0.3333333333333333,\"#9c179e\"],[0.4444444444444444,\"#bd3786\"],[0.5555555555555556,\"#d8576b\"],[0.6666666666666666,\"#ed7953\"],[0.7777777777777778,\"#fb9f3a\"],[0.8888888888888888,\"#fdca26\"],[1.0,\"#f0f921\"]],\"sequentialminus\":[[0.0,\"#0d0887\"],[0.1111111111111111,\"#46039f\"],[0.2222222222222222,\"#7201a8\"],[0.3333333333333333,\"#9c179e\"],[0.4444444444444444,\"#bd3786\"],[0.5555555555555556,\"#d8576b\"],[0.6666666666666666,\"#ed7953\"],[0.7777777777777778,\"#fb9f3a\"],[0.8888888888888888,\"#fdca26\"],[1.0,\"#f0f921\"]]},\"colorway\":[\"#636efa\",\"#EF553B\",\"#00cc96\",\"#ab63fa\",\"#FFA15A\",\"#19d3f3\",\"#FF6692\",\"#B6E880\",\"#FF97FF\",\"#FECB52\"],\"font\":{\"color\":\"#2a3f5f\"},\"geo\":{\"bgcolor\":\"white\",\"lakecolor\":\"white\",\"landcolor\":\"#E5ECF6\",\"showlakes\":true,\"showland\":true,\"subunitcolor\":\"white\"},\"hoverlabel\":{\"align\":\"left\"},\"hovermode\":\"closest\",\"mapbox\":{\"style\":\"light\"},\"paper_bgcolor\":\"white\",\"plot_bgcolor\":\"#E5ECF6\",\"polar\":{\"angularaxis\":{\"gridcolor\":\"white\",\"linecolor\":\"white\",\"ticks\":\"\"},\"bgcolor\":\"#E5ECF6\",\"radialaxis\":{\"gridcolor\":\"white\",\"linecolor\":\"white\",\"ticks\":\"\"}},\"scene\":{\"xaxis\":{\"backgroundcolor\":\"#E5ECF6\",\"gridcolor\":\"white\",\"gridwidth\":2,\"linecolor\":\"white\",\"showbackground\":true,\"ticks\":\"\",\"zerolinecolor\":\"white\"},\"yaxis\":{\"backgroundcolor\":\"#E5ECF6\",\"gridcolor\":\"white\",\"gridwidth\":2,\"linecolor\":\"white\",\"showbackground\":true,\"ticks\":\"\",\"zerolinecolor\":\"white\"},\"zaxis\":{\"backgroundcolor\":\"#E5ECF6\",\"gridcolor\":\"white\",\"gridwidth\":2,\"linecolor\":\"white\",\"showbackground\":true,\"ticks\":\"\",\"zerolinecolor\":\"white\"}},\"shapedefaults\":{\"line\":{\"color\":\"#2a3f5f\"}},\"ternary\":{\"aaxis\":{\"gridcolor\":\"white\",\"linecolor\":\"white\",\"ticks\":\"\"},\"baxis\":{\"gridcolor\":\"white\",\"linecolor\":\"white\",\"ticks\":\"\"},\"bgcolor\":\"#E5ECF6\",\"caxis\":{\"gridcolor\":\"white\",\"linecolor\":\"white\",\"ticks\":\"\"}},\"title\":{\"x\":0.05},\"xaxis\":{\"automargin\":true,\"gridcolor\":\"white\",\"linecolor\":\"white\",\"ticks\":\"\",\"title\":{\"standoff\":15},\"zerolinecolor\":\"white\",\"zerolinewidth\":2},\"yaxis\":{\"automargin\":true,\"gridcolor\":\"white\",\"linecolor\":\"white\",\"ticks\":\"\",\"title\":{\"standoff\":15},\"zerolinecolor\":\"white\",\"zerolinewidth\":2}}},\"title\":{\"text\":\"Evolution of price chart diplayed as candlestick chart\"},\"width\":800,\"xaxis\":{\"title\":{\"text\":\"time [days]\"}},\"yaxis\":{\"title\":{\"text\":\"price\"}}},                        {\"responsive\": true}                    ).then(function(){\n",
       "                            \n",
       "var gd = document.getElementById('779a4091-6e3c-41e9-a4e4-b12ae62bc097');\n",
       "var x = new MutationObserver(function (mutations, observer) {{\n",
       "        var display = window.getComputedStyle(gd).display;\n",
       "        if (!display || display === 'none') {{\n",
       "            console.log([gd, 'removed!']);\n",
       "            Plotly.purge(gd);\n",
       "            observer.disconnect();\n",
       "        }}\n",
       "}});\n",
       "\n",
       "// Listen for the removal of the full notebook cells\n",
       "var notebookContainer = gd.closest('#notebook-container');\n",
       "if (notebookContainer) {{\n",
       "    x.observe(notebookContainer, {childList: true});\n",
       "}}\n",
       "\n",
       "// Listen for the clearing of the current output cell\n",
       "var outputEl = gd.closest('.output');\n",
       "if (outputEl) {{\n",
       "    x.observe(outputEl, {childList: true});\n",
       "}}\n",
       "\n",
       "                        })                };                });            </script>        </div>"
      ]
     },
     "metadata": {},
     "output_type": "display_data"
    }
   ],
   "source": [
    "plot_cs_chart(result_df.loc['CDLDOJI'].reset_index().set_index('date')[:20])"
   ]
  },
  {
   "cell_type": "code",
   "execution_count": null,
   "id": "c01fbeed",
   "metadata": {},
   "outputs": [],
   "source": []
  },
  {
   "cell_type": "code",
   "execution_count": 98,
   "id": "07658415",
   "metadata": {},
   "outputs": [],
   "source": [
    "\n",
    "TP  FP\n",
    "FN  TN\n",
    "\n",
    "\n",
    "TPR = TP / (TP+TN) \n",
    "\n",
    "Accuracy = ... > 50%\n",
    "Precision = ..."
   ]
  },
  {
   "cell_type": "code",
   "execution_count": null,
   "id": "11dcfe85",
   "metadata": {},
   "outputs": [],
   "source": [
    "# Account curve \n",
    "\n",
    "compare account curve to a benchmark\n",
    "cumprod(predictio_t * return_t )\n",
    "\n",
    "benachmark: SP500 "
   ]
  },
  {
   "cell_type": "code",
   "execution_count": null,
   "id": "3ad6f9d1",
   "metadata": {},
   "outputs": [],
   "source": [
    "Logistic regression "
   ]
  },
  {
   "cell_type": "code",
   "execution_count": null,
   "id": "0a6d860f",
   "metadata": {},
   "outputs": [],
   "source": [
    "151 alphas\n",
    "https://papers.ssrn.com/sol3/papers.cfm?abstract_id=3247865"
   ]
  },
  {
   "cell_type": "code",
   "execution_count": null,
   "id": "d6f8bbad",
   "metadata": {},
   "outputs": [],
   "source": [
    "45 hours my time;  \n",
    "28 hours with software engineering "
   ]
  },
  {
   "cell_type": "markdown",
   "id": "035f990f",
   "metadata": {},
   "source": [
    "Until 15 December: Get stuff on github.\n",
    "Meeting with Jay: 2pm-3pm\n",
    "\n",
    "James is available on Teams; working hours: 9:00-5:00. \n",
    "TODO: Set up a timeline with goals and achievements each week; get code as soon as possible to gitbug to use branches, pull requests, etc.\n",
    "\n",
    "What James can help with:\n",
    "Priority: Woring in branches on github:\n",
    "Pull-Requests on github (Python package index; upload .ipynb to HPC)\n",
    "\n",
    "2) Modularize the code using classes/OOP/Design Patterns.\n",
    "\n",
    "3) Writing Unit-Test\n",
    "\n",
    "4)CI test suits\n",
    "\n",
    "5) Storage of data (backend)\n",
    "\n",
    "use black as a linter\n",
    "include literature references"
   ]
  },
  {
   "cell_type": "markdown",
   "id": "83b4e844",
   "metadata": {},
   "source": [
    "# Performance evaluation using confusion matrix"
   ]
  },
  {
   "cell_type": "code",
   "execution_count": null,
   "id": "8016cae3",
   "metadata": {},
   "outputs": [],
   "source": [
    "doji_df = result_df.loc['CDLDOJI']\n",
    "doji_df.head()\n",
    "\n",
    "# conditions for classical doji\n",
    "doji_df['TruePositive'] = np.where((doji_df['cs_pattern']>0) & (doji_df['previous_day_return']>0) & (doji_df['close'].shift(+1)<(doji_df['close'])) & (doji_df['NextDayOpen']<doji_df['Close|Executed']) & (doji_df['NextDayReturn']<0), 1,\n",
    "                            np.where((doji_df['cs_pattern']>0) & (doji_df['previous_day_return']<0) & (doji_df['close'].shift(+1)>(doji_df['close'])) &(doji_df['NextDayOpen']>doji_df['Close|Executed']) & (doji_df['NextDayReturn']>0), 1,\n",
    "                            0))\n",
    "\n",
    "doji_df['FalsePositive'] = np.where((doji_df['cs_pattern']>0) & (doji_df['previous_day_return']>0) & (doji_df['close'].shift(+1)<(doji_df['close'])) & (doji_df['NextDayOpen']<doji_df['Close|Executed']) & (doji_df['NextDayReturn']>0), 1,\n",
    "                            np.where((doji_df['cs_pattern']>0) & (doji_df['previous_day_return']<0) & (doji_df['close'].shift(+1)>(doji_df['close'])) &(doji_df['NextDayOpen']>doji_df['Close|Executed']) & (doji_df['NextDayReturn']<0), 1,\n",
    "                            0))\n",
    "\n",
    "doji_df['TruePositive5'] = np.where((doji_df['cs_pattern']>0) & (doji_df['previous_day_return']>0) & (doji_df['close'].shift(+1)<(doji_df['close'])) & (doji_df['NextDayOpen']<doji_df['Close|Executed']) & (doji_df['5DaysMeanReturn']<0), 1,\n",
    "                            np.where((doji_df['cs_pattern']>0) & (doji_df['previous_day_return']<0) & (doji_df['close'].shift(+1)>(doji_df['close'])) &(doji_df['NextDayOpen']>doji_df['Close|Executed']) & (doji_df['5DaysMeanReturn']>0), 1,\n",
    "                            0))\n",
    "\n",
    "doji_df['FalsePositive5'] = np.where((doji_df['cs_pattern']>0) & (doji_df['previous_day_return']>0) & (doji_df['close'].shift(+1)<(doji_df['close'])) & (doji_df['NextDayOpen']<doji_df['Close|Executed']) & (doji_df['5DaysMeanReturn']>0), 1,\n",
    "                            np.where((doji_df['cs_pattern']>0) & (doji_df['previous_day_return']<0) & (doji_df['close'].shift(+1)>(doji_df['close'])) &(doji_df['NextDayOpen']>doji_df['Close|Executed']) & (doji_df['5DaysMeanReturn']<0), 1,\n",
    "                            0))\n",
    "\n",
    "doji_df['Signal'] = 'doji'"
   ]
  },
  {
   "cell_type": "code",
   "execution_count": null,
   "id": "67ab2374",
   "metadata": {},
   "outputs": [],
   "source": []
  },
  {
   "cell_type": "code",
   "execution_count": null,
   "id": "2a0a690a",
   "metadata": {},
   "outputs": [],
   "source": []
  },
  {
   "cell_type": "code",
   "execution_count": 104,
   "id": "1bb75ab3",
   "metadata": {},
   "outputs": [],
   "source": []
  },
  {
   "cell_type": "code",
   "execution_count": null,
   "id": "c02b4714",
   "metadata": {},
   "outputs": [],
   "source": []
  },
  {
   "cell_type": "code",
   "execution_count": null,
   "id": "c58a6025",
   "metadata": {},
   "outputs": [],
   "source": []
  },
  {
   "cell_type": "markdown",
   "id": "dec7724e",
   "metadata": {},
   "source": [
    "# Appendix"
   ]
  },
  {
   "cell_type": "code",
   "execution_count": null,
   "id": "80e7683b",
   "metadata": {},
   "outputs": [],
   "source": [
    "import talib\n",
    "\n",
    "def compute_intraday_return(row):\n",
    "    row['positive_intraday'] = np.where((row['Close|Executed'] - row['Open|Executed']) > 0, True, False)\n",
    "    return row\n",
    "\n",
    "cs_performance_dict = dict()\n",
    "\n",
    "for ListingId in df['ListingId'].unique():\n",
    "    equity_df = pd.DataFrame(index=df[df['ListingId']==ListingId]['Date'], \n",
    "                                data=df[df['ListingId']==ListingId][['Open|Executed', 'High|Executed', 'Low|Executed', 'Close|Executed']].values, \n",
    "                                columns = df[df['ListingId']==ListingId][['Open|Executed', 'High|Executed', 'Low|Executed', 'Close|Executed']].columns\n",
    "                            )\n",
    "    equity_df = equity_df.apply(compute_intraday_return, axis='columns')\n",
    "    \n",
    "    results = []\n",
    "    cols = []\n",
    "    for attr in dir(talib):\n",
    "        if attr[:3]=='CDL':\n",
    "            res = getattr(talib, attr)(equity_df['Open|Executed'], equity_df['High|Executed'], equity_df['Low|Executed'], equity_df['Close|Executed'])\n",
    "            results.append(res)\n",
    "            cols.append(attr)\n",
    "\n",
    "    patterns = pd.DataFrame(results).T\n",
    "    patterns.columns = cols\n",
    "    \n",
    "    signal_df = patterns[(patterns.select_dtypes(include=['number']) != 0).any(1)]  # alternative: patterns.loc[(patterns.loc[:, patterns.dtypes != object] != 0).any(1)]\n",
    "    \n",
    "    signal_and_return_df = signal_df.sum(axis=1).rename('cumulative_signal').to_frame().merge(equity_df['positive_intraday'].shift(-1), left_index=True, right_index=True)[:-1]  # dont count the last as its return will be NaN\n",
    "    signal_and_return_df = signal_and_return_df.loc[signal_and_return_df['cumulative_signal'] != 0]\n",
    "    signal_and_return_df['performance'] = np.where((signal_and_return_df['cumulative_signal']>0) & (signal_and_return_df['positive_intraday']==True), True,\n",
    "                                                   np.where((signal_and_return_df['cumulative_signal']<0) & (signal_and_return_df['positive_intraday']==False), True, False))\n",
    "    \n",
    "    TP = signal_and_return_df['performance'].sum() / (signal_and_return_df['performance'].shape[0] & Where the signaal occurs )  #TODO modify the ratio of TP/FP\n",
    "    FP = 1-TP                                                                                      # \n",
    "    \n",
    "    cs_performance_dict[ListingId] = {'TP_rate':round(TP, 4), 'FP_rate':round(FP, 4)}"
   ]
  }
 ],
 "metadata": {
  "kernelspec": {
   "display_name": "Python 3",
   "language": "python",
   "name": "python3"
  },
  "language_info": {
   "codemirror_mode": {
    "name": "ipython",
    "version": 3
   },
   "file_extension": ".py",
   "mimetype": "text/x-python",
   "name": "python",
   "nbconvert_exporter": "python",
   "pygments_lexer": "ipython3",
   "version": "3.8.8"
  },
  "toc": {
   "base_numbering": 1,
   "nav_menu": {},
   "number_sections": true,
   "sideBar": true,
   "skip_h1_title": false,
   "title_cell": "Table of Contents",
   "title_sidebar": "Contents",
   "toc_cell": false,
   "toc_position": {},
   "toc_section_display": true,
   "toc_window_display": false
  }
 },
 "nbformat": 4,
 "nbformat_minor": 5
}