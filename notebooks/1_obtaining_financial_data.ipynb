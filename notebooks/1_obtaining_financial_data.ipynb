{
 "cells": [
  {
   "cell_type": "markdown",
   "id": "68bfce76",
   "metadata": {},
   "source": [
    "# This notebook explains how to obtain high-quality price data at daily frequency from US listed stocks "
   ]
  },
  {
   "cell_type": "code",
   "execution_count": null,
   "id": "aca20a1a",
   "metadata": {},
   "outputs": [],
   "source": [
    "from IPython.display import Image\n",
    "import datetime\n",
    "import contextlib\n",
    "from typing import Generator\n",
    "import wrds"
   ]
  },
  {
   "cell_type": "markdown",
   "id": "57dedec9",
   "metadata": {},
   "source": [
    "## Getting data: WRDS, CRSP and tickers for the S&P 500 universe.\n",
    "\n",
    "For this project, we make use of `CRSP` data. \n",
    "\n",
    "The acronym `CRSP` stands for `Center for Research in Security Prices` and you can find more information about them here: https://www.crsp.org/\n",
    "They are a respected data provider that are behind a paywall. Unfortunately, high-quality financial data is known to be unaffordably expensive, but luckily Imperial College has a license. Precisely, you can access `CRSP` data via `WRDS`, being short for `Wharton Research Data Services`. WRDS understand themselves to be \"the global standard for business research\". We will not question the details of this statement but they certainly do offer data that you also can make use for you university projects and disseration all the way up to PhD and Postdoc research. You can find more information about them here: https://wrds-www.wharton.upenn.edu. \n",
    "\n",
    "In order to access `CRSP` data via `WRDS`, you need to follow these steps: \n",
    "\n",
    "1) Apply for a `WRDS` account via Imperial College's library services here:\n",
    "https://www.imperial.ac.uk/admin-services/library/subject-support/business/wrds/\n",
    "\n",
    "2) Log on your `WRDS` account:\n",
    "https://wrds-www.wharton.upenn.edu/login/\n",
    "\n",
    "3) Upon logging in, you will see a menu that looks like the following. Click on `CRSP`."
   ]
  },
  {
   "cell_type": "code",
   "execution_count": null,
   "id": "065b9dc7",
   "metadata": {},
   "outputs": [],
   "source": [
    "Image(filename=\"./../figures/WRDS_overview.png\")"
   ]
  },
  {
   "cell_type": "markdown",
   "id": "6c995b8a",
   "metadata": {},
   "source": [
    "4) Under `Quarterly Update`, click on `Stock - Version 2`."
   ]
  },
  {
   "cell_type": "code",
   "execution_count": null,
   "id": "c5a88e83",
   "metadata": {},
   "outputs": [],
   "source": [
    "Image(filename=\"./../figures/CRSP1_select_quarterly.png\")"
   ]
  },
  {
   "cell_type": "markdown",
   "id": "90deb97c",
   "metadata": {},
   "source": [
    "5) Under `Stock - Version 2`, click on `Daily Stock File`."
   ]
  },
  {
   "cell_type": "code",
   "execution_count": null,
   "id": "e593ae0b",
   "metadata": {},
   "outputs": [],
   "source": [
    "Image(filename=\"./../figures/CRSP2.png\")"
   ]
  },
  {
   "cell_type": "markdown",
   "id": "2254399c",
   "metadata": {},
   "source": [
    "5) Finally, you can see a mask that allows you to select a date range of your choosing as well as a mask to select the identifyer of the stock you wish to query data for. I opten for `Ticker`. You will find a list of tickers for the S&P 500 components as of the end of 2023 in the text file `data/SP500_tickers_one_per_line.txt` in the file directory of this exemplar. If you work for a bank or financial institution, they will ususlly have an `Operations` team that tracks any tickers at any exchange they trade on. Tickers, as well as index components can change in time, as members will be included and others excluded from an index. Hence, the composition of the ticker list can change. I obtained the tickers from https://www.slickcharts.com/sp500 on 4 December 2023, which is a publically available source. I encourage you to scrape the data from the web, comparing them to the tickers contained and updating any changes.\n",
    "\n",
    "Now back to WRDS. If you want to query data for more than one stock, you do not need to enter them manually. Instead, you can upload a file containing the identifiers. `WRDS` demands one identifier, here ticker, per line of the file you upload. You can then go ahead and select the data you wish to query for each of the tickers. For the purpose of this exempolar, we need to obatin \"open price\", \"high price\", \"low price\" and \"close price\", and go all the way back from `1980` to the most recent date available, here, `31 December 2023`.\n",
    "You can choose to compress the output file which is suggested for larger data requests. \n",
    "\n",
    "Clicking on `Submit Form` will query the data. You will receive an email notifying you once the process is complete and can then progress importing it to the program of choice to conduct your research on the data. "
   ]
  },
  {
   "cell_type": "code",
   "execution_count": null,
   "id": "586358d4",
   "metadata": {},
   "outputs": [],
   "source": [
    "Image(\n",
    "    filename=\"./../figures/CRSP3_select_data.png\"\n",
    ")"
   ]
  },
  {
   "cell_type": "markdown",
   "id": "a3ecbff7",
   "metadata": {},
   "source": [
    "## Querying `WRDS` data directly from within `Python`\n",
    "\n",
    "Alternatively, you can also query data directly from within Python using `WRDS's` PyPi indexed Python package `wrds` that you can install using `pip install wrds`. The sample script below shows how you can set up a connection and query data from `MSFT` and `AAPL` using `SQL` commands. \n",
    "\n",
    "```\n",
    "!pip install wrds  # https://pypi.org/project/wrds/\n",
    "import wrds\n",
    "db = wrds.Connection(wrds_username='your_individually_assigned_username')  # input your credential\n",
    "\n",
    "print(db.list_libraries())  # prints accessible data sets\n",
    "\n",
    "sql_query =\\\n",
    "\"\"\"\n",
    "SELECT permno, date, prc, vol, askhi, bidlo\n",
    "FROM crsp.dsf\n",
    "WHERE permno IN (10107, 14593) -- Example PERMNOs for Microsoft and Apple\n",
    "AND date >= '2020-01-01' AND date <= '2020-12-31';\n",
    "\"\"\"\n",
    "data = db.raw_sql(sql_query)\n",
    "```"
   ]
  },
  {
   "cell_type": "markdown",
   "id": "38f06197",
   "metadata": {},
   "source": [
    "# Appendix\n",
    "\n",
    "As discussed, relying solely on the ticker list for future reference has its limitations. S&P 500 membership can change over time, companies can undergo name changes (e.g., Facebook to Meta), and ticker symbols can also change.\n",
    "\n",
    "A more robust approach involves using the `permanent company number (permno)`, which uniquely identifies a listed company. This method allows us to programmatically track the S&P 500 constituents over time. To illustrate, we will retrieve the index members as of the most recent date for which our academic license provides data, which is 29 December 2023 at the time of writing. The following section will detail how to programmatically obtain the members for that day.\n",
    "\n",
    "We employ SQL commands to access WRDS's database, which documents the S&P 500 index's membership changes in time. This approach produces a DataFrame detailing the index's constituents from its inception. By concentrating on the most recent data available, we opt for using permnos over tickers for retrieving price information. This strategy increases the accuracy of identifying index members, offering a more reliable alternative to open-source data. Our preference for commercial data sources like WRDS over open-source options is driven not by a dismissal of the latter, but by the higher quality control standards and accountability typically associated with commercial datasets.\n",
    "\n",
    "As an aside, this dataset opens up several avenues for analysis regarding the index's evolution over time that you can investigate in your own time. Consider, for example, ranking the members by their tenure in the index to explore their trajectories through various economic boom and bust cycles. It could also be enlightening to identify which periods were the most dynamic in terms of membership changes. Additionally, examining the newest members of the index may offer insights into shifting trends and sectors within the broader economy. "
   ]
  },
  {
   "cell_type": "code",
   "execution_count": null,
   "id": "0fdf2131",
   "metadata": {},
   "outputs": [],
   "source": [
    "# when working with data bases, it is of crucial importance to close the connection one we are done.\n",
    "# Invoking db.close() would do, but this is easily forgotton. Hence we make use of a context manager which takes\n",
    "# care of this issue automatically for us. We can use the contextmanager decorator to obtain this behaviour.\n",
    "\n",
    "\n",
    "@contextlib.contextmanager\n",
    "def wrds_connection(wrds_username: str) -> Generator[wrds.Connection, None, None]:\n",
    "    db = None\n",
    "    try:\n",
    "        db = wrds.Connection(wrds_username=wrds_username)\n",
    "        yield db\n",
    "    finally:\n",
    "        if db is not None:\n",
    "            db.close()"
   ]
  },
  {
   "cell_type": "code",
   "execution_count": null,
   "id": "7938ba74",
   "metadata": {},
   "outputs": [],
   "source": [
    "# this will be the SQL query we run. Going into details regarding the language is beyon the scope, however,\n",
    "# it is a reasonably human-readable language.\n",
    "\n",
    "START_DATE = \"1900-01-01\"\n",
    "END_DATE = \"2023-12-29\"\n",
    "\n",
    "splist_query = \"\"\"\n",
    "SELECT *\n",
    "FROM crsp.dsp500list\n",
    "WHERE ending >= %(start_date)s AND ending <= %(end_date)s;\n",
    "\"\"\""
   ]
  },
  {
   "cell_type": "markdown",
   "id": "3c19411b",
   "metadata": {},
   "source": [
    "In order to execute the below cell, you need to pass your `wrds_username` as an argument."
   ]
  },
  {
   "cell_type": "code",
   "execution_count": null,
   "id": "2c362be4",
   "metadata": {},
   "outputs": [],
   "source": [
    "# using the context manager for secure and clean database connection handling.\n",
    "# Also take care to use your very own wrds_username that was assigned to you oce you applied for a WRDS account\n",
    "# and call the below with wrds_connection(wrds_username='your_individually_assigned_username')\n",
    "\n",
    "with wrds_connection(wrds_username=\"YOUR_WRDS_USERNAME\") as db:\n",
    "    splist_data = db.raw_sql(\n",
    "        splist_query, params={\"start_date\": START_DATE, \"end_date\": END_DATE}\n",
    "    )"
   ]
  },
  {
   "cell_type": "code",
   "execution_count": null,
   "id": "cd7ea0e0",
   "metadata": {},
   "outputs": [],
   "source": [
    "# filtering the data for the specific date for which we need the S&P500 components\n",
    "splist_data = (\n",
    "    splist_data[\n",
    "        splist_data[\"ending\"] == datetime.datetime.strptime(END_DATE, \"%Y-%m-%d\").date()\n",
    "    ]\n",
    "    .sort_values(by=\"start\")\n",
    "    .reset_index(drop=True)\n",
    ")\n",
    "\n",
    "splist_data"
   ]
  },
  {
   "cell_type": "markdown",
   "id": "55bf6cf1",
   "metadata": {},
   "source": [
    "# END"
   ]
  }
 ],
 "metadata": {
  "kernelspec": {
   "display_name": "Python 3",
   "language": "python",
   "name": "python3"
  },
  "language_info": {
   "codemirror_mode": {
    "name": "ipython",
    "version": 3
   },
   "file_extension": ".py",
   "mimetype": "text/x-python",
   "name": "python",
   "nbconvert_exporter": "python",
   "pygments_lexer": "ipython3",
   "version": "3.8.8"
  },
  "toc": {
   "base_numbering": 1,
   "nav_menu": {},
   "number_sections": true,
   "sideBar": true,
   "skip_h1_title": false,
   "title_cell": "Table of Contents",
   "title_sidebar": "Contents",
   "toc_cell": false,
   "toc_position": {},
   "toc_section_display": true,
   "toc_window_display": false
  }
 },
 "nbformat": 4,
 "nbformat_minor": 5
}
