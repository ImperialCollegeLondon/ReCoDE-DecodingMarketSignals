{
 "cells": [
  {
   "cell_type": "markdown",
   "id": "68bfce76",
   "metadata": {},
   "source": [
    "# This notebook explains how to obtain high-quality price data at daily frequency from US listed stocks "
   ]
  },
  {
   "cell_type": "code",
   "execution_count": null,
   "id": "aca20a1a",
   "metadata": {},
   "outputs": [],
   "source": [
    "from IPython.display import Image"
   ]
  },
  {
   "cell_type": "markdown",
   "id": "57dedec9",
   "metadata": {},
   "source": [
    "## Getting data: WRDS, CRSP and tickers for the S&P 500 universe.\n",
    "\n",
    "For this project, we make use of `CRSP` data. \n",
    "\n",
    "The acronym `CRSP` stands for `Center for Research in Security Prices` and you can find more information about them here: https://www.crsp.org/\n",
    "They are a respected data provider that are behind a paywall. Unfortunately, high-quality financial data is known to be unaffordably expensive, but luckily Imperial College has a license. Precisely, you can access `CRSP` data via `WRDS`, being short for `Wharton Research Data Services`. WRDS understand themselves to be \"the global standard for business research\". We will not question the details of this statement but they certainly do offer data that you also can make use for you university projects and disseration all the way up to PhD and Postdoc research. You can find more information about them here: https://wrds-www.wharton.upenn.edu. \n",
    "\n",
    "In order to access `CRSP` data via `WRDS`, you need to follow these steps: \n",
    "\n",
    "1) Apply for a `WRDS` account via Imerial College's library services here:\n",
    "https://www.imperial.ac.uk/admin-services/library/subject-support/business/wrds/\n",
    "\n",
    "2) Log on your `WRDS` account:\n",
    "https://wrds-www.wharton.upenn.edu/login/\n",
    "\n",
    "3) Upon logging in, you will see a menu that looks like the following. Click on `CRSP`."
   ]
  },
  {
   "cell_type": "code",
   "execution_count": null,
   "id": "065b9dc7",
   "metadata": {},
   "outputs": [],
   "source": [
    "Image(filename=\"./../figures/WRDS_overview.png\")"
   ]
  },
  {
   "cell_type": "markdown",
   "id": "6c995b8a",
   "metadata": {},
   "source": [
    "4) Under `Quarterly Update`, click on `Stock - Version 2`."
   ]
  },
  {
   "cell_type": "code",
   "execution_count": null,
   "id": "c5a88e83",
   "metadata": {},
   "outputs": [],
   "source": [
    "Image(filename=\"./../figures/CRSP1_select_quarterly.png\")"
   ]
  },
  {
   "cell_type": "markdown",
   "id": "90deb97c",
   "metadata": {},
   "source": [
    "5) Under `Stock - Version 2`, click on `Daily Stock File`."
   ]
  },
  {
   "cell_type": "code",
   "execution_count": null,
   "id": "e593ae0b",
   "metadata": {},
   "outputs": [],
   "source": [
    "Image(filename=\"/home/bjs/Desktop/vcs/ReCoDE-DecodingMarketSignals/figures/CRSP2.png\")"
   ]
  },
  {
   "cell_type": "markdown",
   "id": "2254399c",
   "metadata": {},
   "source": [
    "5) Finally, you can see a mask that allows you to select a date range of your choosing as well as a mask to select the identifyer of the stock you wish to query data for. I opten for `Ticker`. You will find a list of tickers for the S&P 500 components as of the end of 2023 in the text file `data/SP500_tickers_one_per_line.txt` in the file directory of this exemplar. If you work for a bank or financial institution, they will ususlly have an `Operations` team that tracks any tickers at any exchange they trade on. Tickers, as well as index components can change in time, as members will be included and others excluded from an index. Hence, the composition of the ticker list can change. I obtained the tickers from https://www.slickcharts.com/sp500 on 4 December 2023, which is a publically available source. I encourage you to scrape the data from the web, comparing them to the tickers contained and updating any changes.\n",
    "\n",
    "Now back to WRDS. If you want to query data for more than one stock, you do not need to enter them manually. Instead, you can upload a file containing the identifiers. `WRDS` demands one identifier, here ticker, per line of the file you upload. You can then go ahead and select the data you wish to query for each of the tickers. For the purpose of this exempolar, we need to obatin \"open price\", \"high price\", \"low price\" and \"close price\", and go all the way back from `1980` to the most recent date available, here, `31 December 2023`.\n",
    "You can choose to compress the output file which is suggested for larger data requests. \n",
    "\n",
    "Clicking on `Submit Form` will query the data. You will receive an email notifying you once the process is complete and can then progress importing it to the program of choice to conduct your research on the data. "
   ]
  },
  {
   "cell_type": "code",
   "execution_count": null,
   "id": "586358d4",
   "metadata": {},
   "outputs": [],
   "source": [
    "Image(\n",
    "    filename=\"/home/bjs/Desktop/vcs/ReCoDE-DecodingMarketSignals/figures/CRSP3_select_data.png\"\n",
    ")"
   ]
  },
  {
   "cell_type": "markdown",
   "id": "55bf6cf1",
   "metadata": {},
   "source": [
    "# END"
   ]
  }
 ],
 "metadata": {
  "kernelspec": {
   "display_name": "Python 3",
   "language": "python",
   "name": "python3"
  },
  "language_info": {
   "codemirror_mode": {
    "name": "ipython",
    "version": 3
   },
   "file_extension": ".py",
   "mimetype": "text/x-python",
   "name": "python",
   "nbconvert_exporter": "python",
   "pygments_lexer": "ipython3",
   "version": "3.8.8"
  },
  "toc": {
   "base_numbering": 1,
   "nav_menu": {},
   "number_sections": true,
   "sideBar": true,
   "skip_h1_title": false,
   "title_cell": "Table of Contents",
   "title_sidebar": "Contents",
   "toc_cell": false,
   "toc_position": {},
   "toc_section_display": true,
   "toc_window_display": false
  }
 },
 "nbformat": 4,
 "nbformat_minor": 5
}
